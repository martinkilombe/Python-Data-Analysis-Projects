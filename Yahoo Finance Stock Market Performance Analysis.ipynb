{
 "cells": [
  {
   "cell_type": "code",
   "execution_count": 1,
   "metadata": {},
   "outputs": [],
   "source": [
    "#importing libraries\n",
    "import pandas as pd\n",
    "import yfinance as yf\n",
    "from datetime import datetime"
   ]
  },
  {
   "attachments": {},
   "cell_type": "markdown",
   "metadata": {},
   "source": [
    "In the below code, we first imported the necessary Python libraries and downloaded the historical stock price data for four companies: Apple, Microsoft, Netflix, and Google, for the last three months."
   ]
  },
  {
   "cell_type": "code",
   "execution_count": 2,
   "metadata": {},
   "outputs": [],
   "source": [
    "#create the time frame of the data -- 3 months ago from now\n",
    "start_date = datetime.now() - pd.DateOffset(months=3)\n",
    "end_date = datetime.now()"
   ]
  },
  {
   "cell_type": "code",
   "execution_count": 3,
   "metadata": {},
   "outputs": [],
   "source": [
    "#Selecting the company for analysis by ticker symbol\n",
    "tickers = ['AAPL','MSFT','NFLX','GOOG']"
   ]
  },
  {
   "cell_type": "code",
   "execution_count": 4,
   "metadata": {},
   "outputs": [
    {
     "name": "stdout",
     "output_type": "stream",
     "text": [
      "[*********************100%***********************]  1 of 1 completed\n",
      "[*********************100%***********************]  1 of 1 completed\n",
      "[*********************100%***********************]  1 of 1 completed\n",
      "[*********************100%***********************]  1 of 1 completed\n"
     ]
    }
   ],
   "source": [
    "#create an empty list and append the ticker symbols\n",
    "df_list =[]\n",
    "\n",
    "for ticker in tickers:\n",
    "    data=yf.download(ticker,start=start_date,end=end_date)\n",
    "    df_list.append(data)"
   ]
  },
  {
   "cell_type": "code",
   "execution_count": 5,
   "metadata": {},
   "outputs": [],
   "source": [
    "#concatenate the ticker symbols with the relevant date\n",
    "df = pd.concat(df_list,keys=tickers,names =['ticker','Date'])"
   ]
  },
  {
   "cell_type": "code",
   "execution_count": 8,
   "metadata": {},
   "outputs": [
    {
     "name": "stdout",
     "output_type": "stream",
     "text": [
      "                         Open        High         Low       Close   Adj Close  \\\n",
      "ticker Date                                                                     \n",
      "AAPL   2023-03-20  155.070007  157.820007  154.149994  157.399994  157.182587   \n",
      "       2023-03-21  157.320007  159.399994  156.539993  159.279999  159.059982   \n",
      "       2023-03-22  159.300003  162.139999  157.809998  157.830002  157.612000   \n",
      "       2023-03-23  158.830002  161.550003  157.679993  158.929993  158.710464   \n",
      "       2023-03-24  158.860001  160.339996  157.850006  160.250000  160.028656   \n",
      "       2023-03-27  159.940002  160.770004  157.869995  158.279999  158.061371   \n",
      "       2023-03-28  157.970001  158.490005  155.979996  157.649994  157.432236   \n",
      "       2023-03-29  159.369995  161.050003  159.350006  160.770004  160.547943   \n",
      "       2023-03-30  161.529999  162.470001  161.270004  162.360001  162.135742   \n",
      "       2023-03-31  162.440002  165.000000  161.910004  164.899994  164.672226   \n",
      "\n",
      "                     Volume  \n",
      "ticker Date                  \n",
      "AAPL   2023-03-20  73641400  \n",
      "       2023-03-21  73938300  \n",
      "       2023-03-22  75701800  \n",
      "       2023-03-23  67622100  \n",
      "       2023-03-24  59196500  \n",
      "       2023-03-27  52390300  \n",
      "       2023-03-28  45992200  \n",
      "       2023-03-29  51305700  \n",
      "       2023-03-30  49501700  \n",
      "       2023-03-31  68749800  \n"
     ]
    }
   ],
   "source": [
    "#see the first 10 rows\n",
    "print(df.head(10))"
   ]
  },
  {
   "cell_type": "code",
   "execution_count": null,
   "metadata": {},
   "outputs": [],
   "source": []
  }
 ],
 "metadata": {
  "kernelspec": {
   "display_name": "machinelearning",
   "language": "python",
   "name": "python3"
  },
  "language_info": {
   "codemirror_mode": {
    "name": "ipython",
    "version": 3
   },
   "file_extension": ".py",
   "mimetype": "text/x-python",
   "name": "python",
   "nbconvert_exporter": "python",
   "pygments_lexer": "ipython3",
   "version": "3.9.16"
  },
  "orig_nbformat": 4
 },
 "nbformat": 4,
 "nbformat_minor": 2
}
